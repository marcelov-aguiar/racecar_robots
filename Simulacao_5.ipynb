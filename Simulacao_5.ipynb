{
 "cells": [
  {
   "cell_type": "markdown",
   "id": "97490050",
   "metadata": {},
   "source": [
    "# Controle PI para o Controle de distância de um carro autônomo a um anteparo\n",
    "\n",
    "Simulação 3D para o trabalho final de servomec III"
   ]
  },
  {
   "cell_type": "code",
   "execution_count": 410,
   "id": "f09edc99",
   "metadata": {},
   "outputs": [],
   "source": [
    "# Pacotes\n",
    "import pybullet as p\n",
    "import time \n",
    "import pybullet_data\n",
    "from math import pi\n",
    "import math\n",
    "from os.path import dirname, join as pjoin\n",
    "import scipy.io as sio\n",
    "import numpy as np\n",
    "import matplotlib.pyplot as plt\n",
    "import random"
   ]
  },
  {
   "cell_type": "code",
   "execution_count": 411,
   "id": "20c637dc",
   "metadata": {},
   "outputs": [
    {
     "data": {
      "text/plain": [
       "0"
      ]
     },
     "execution_count": 411,
     "metadata": {},
     "output_type": "execute_result"
    }
   ],
   "source": [
    "# Abrir a interface\n",
    "p.connect(p.GUI)"
   ]
  },
  {
   "cell_type": "markdown",
   "id": "a0370bb3",
   "metadata": {},
   "source": [
    "## Funções"
   ]
  },
  {
   "cell_type": "code",
   "execution_count": 412,
   "id": "d24f85ed",
   "metadata": {},
   "outputs": [],
   "source": [
    "# Dados do veículo:\n",
    "rr = 0.05 # Raio da roda\n",
    "D = 0.2 # Distância entre as rodas do mesmo eixo\n",
    "L = 0.325 # Distância entre eixos \n",
    "B = 290/1000\n",
    "f = 100/1000\n",
    "l =  50/1000\n",
    "A = l + f + L\n",
    "phi_max = pi/6 # Ângulo de esterçamento máximo do veículo\n",
    "dphi = 1 # Velocidade máxima do ângulo de esterçamento"
   ]
  },
  {
   "cell_type": "code",
   "execution_count": 413,
   "id": "9991f9f9",
   "metadata": {},
   "outputs": [],
   "source": [
    "def Coluna(Comprimento,x,y):\n",
    "# Função que adiciona as paredes horizontais \n",
    "# x, y do centro da coluna\n",
    "# th inclinação: 1 = eixo x, 0 = eixo y\n",
    "    grossura = Comprimento \n",
    "    nb_bricks = 1\n",
    "    brick_mass = 0.5\n",
    "    \n",
    "    # Parede 1\n",
    "    brick_size = np.array([grossura, Comprimento, 0.2])\n",
    "    brick_centers = np.zeros((nb_bricks, 3))\n",
    "    brick_orns = np.zeros((nb_bricks, 4))\n",
    "    brick_coll = p.createCollisionShape(p.GEOM_BOX,halfExtents=brick_size/2)\n",
    "    \n",
    "    # We use this array to store the reference of brick objects in pybullet world.\n",
    "    bricks = np.zeros(1, dtype=np.int8)\n",
    "    center_pos = np.array([x ,y , 0.1])\n",
    "    brick_orns = np.array([0, 0, 0, 1]) # y\n",
    "    bricks = p.createMultiBody(baseMass=brick_mass,\n",
    "                              baseCollisionShapeIndex=brick_coll,\n",
    "                              basePosition=center_pos,\n",
    "                              baseOrientation=brick_orns)\n",
    "    p.changeDynamics(bricks, -1, lateralFriction=0.1, restitution=0.1)"
   ]
  },
  {
   "cell_type": "code",
   "execution_count": 414,
   "id": "7b45f977",
   "metadata": {},
   "outputs": [],
   "source": [
    "def position_orientation(model):\n",
    "    '''\n",
    "    Diante do modelo definido como nome do racecar, a função devolve a posição (xv,yv) e pose do robô () em relação\n",
    "    ao referêncial entre eixos traseiro e no plano x,y\n",
    "    '''\n",
    "    position, orientation = p.getLinkState(car, 0)[:2] # Dados espaciais da referência\n",
    "    # Posição\n",
    "    xv = position[0]\n",
    "    yv = position[1]\n",
    "    \n",
    "     # Inclinação\n",
    "    w = orientation[3]\n",
    "    # Pose do veículo\n",
    "    thv = math.acos(w)*2 \n",
    "    if orientation[2] != 0:\n",
    "        thv = thv*orientation[2]/(abs(orientation[2]))\n",
    "    return xv,yv,thv       \n",
    "\n",
    "def real_phi (model_class):\n",
    "    '''\n",
    "    Função que diz o valor atual de phi do veículo, ideal para saber seu sinal de controle\n",
    "    '''\n",
    "    # Pegar os dados da classe\n",
    "    model = model_class.model\n",
    "    L = model_class.L\n",
    "    D = model_class.D\n",
    "    # ================================#\n",
    "    phi1 = p.getJointState(model,6)[0] # Valor em radianos da roda direita dianteira\n",
    "    if phi1 == 0:\n",
    "        phi = 0\n",
    "    else:\n",
    "        phi = math.atan(L/(L/math.tan(phi1) - D/2))\n"
   ]
  },
  {
   "cell_type": "code",
   "execution_count": 415,
   "id": "0a20e3c3",
   "metadata": {},
   "outputs": [],
   "source": [
    "# Classe para o carro\n",
    "class class_car:\n",
    "    def __init__(self,rr,D,L,B,f,l,phi_max,dphi_max,model,step):\n",
    "        '''\n",
    "        rr = Raio da roda\n",
    "        D = Distância entre as rodas do mesmo eixo\n",
    "        L = Distância entre eixos \n",
    "        B = Largura do veículo\n",
    "        f = Distância entre a roda da frente e a frente do veículo\n",
    "        l = Distância entre a roda de trás e a traseira do veículo\n",
    "        A = Comprimento do veíclo\n",
    "        phi_max = Ângulo de esterçamento máximo do veículo\n",
    "        a = Aceleração inicial\n",
    "        dphi_max = Velocidade máxima do ângulo de esterçamento\n",
    "        V = Velocidade inicial\n",
    "        phi = Ângulo de estarçamento inicial\n",
    "        xv, yv = Posição inicial do veículo\n",
    "        thv = Inclinação inicial do veículo\n",
    "        step = step da simulação\n",
    "        '''\n",
    "        self.rr = rr\n",
    "        self.D = D\n",
    "        self.L = L\n",
    "        self.B = B\n",
    "        self.f = f\n",
    "        self.l = l\n",
    "        self.A = L + f + l\n",
    "        self.phi_max = phi_max\n",
    "        self.dphi_max = dphi_max\n",
    "        self.model = model\n",
    "        self.step = step\n",
    "        # Histórico\n",
    "        self.phi = [real_phi(self)]\n",
    "        xv, yv, thv = position_orientation(self.model)\n",
    "        self.xv = [xv]\n",
    "        self.yv = [yv]\n",
    "        self.thv = [thv]\n",
    "    def Global (self):\n",
    "        '''\n",
    "        Atualiza todas as informações globais do carro\n",
    "        '''\n",
    "        xv, yv, thv = position_orientation(self.model)\n",
    "        self.phi.append(real_phi(self))\n",
    "        self.xv.append(xv)\n",
    "        self.yv.append(yv)\n",
    "        self.thv.append(thv)  \n",
    "            \n",
    "    def Velocidade_Phi (self, V, phi):\n",
    "        '''\n",
    "        Usa o veículo como classe\n",
    "        '''\n",
    "        # Função que define a velocidade e o ângulo de esterçamento de cada roda \n",
    "        # V = velocidade linear do veículo referenciando o modelo do tipo bicicleta, entre eixos traseiro;\n",
    "        # phi = Ângulo de esterçamento da roda dianteira imaginária central;\n",
    "        # D = Distância entre as rodas do mesmo eixo;\n",
    "        # L = Distrância entre os eixos\n",
    "        # r = Raio da roda do veículo\n",
    "        # phi_max = Ângulo de esterçamento máximo\n",
    "        # dphi = Velocidade do ângulo de esterçamento\n",
    "\n",
    "        # Pegando os dados do veículo\n",
    "        D = self.D\n",
    "        L = self.L\n",
    "        r = self.rr\n",
    "        phi_max = self.phi_max\n",
    "        dphi = self.dphi_max\n",
    "        model = self.model\n",
    "        # ================================== #\n",
    "        # Limite do ângulo de esterçamento\n",
    "        if abs(phi) > phi_max:\n",
    "            phi = phi/(abs(phi))*phi_max \n",
    "\n",
    "        # Converter a velocidade V para rad/s\n",
    "        V = V/r # rad/s\n",
    "        if phi == 0:\n",
    "            R = 99999999\n",
    "        else:\n",
    "            R = L/(math.tan(phi))\n",
    "        phi_1 = math.atan(L/(R+D/2)) # Roda da direita\n",
    "        phi_2 = math.atan(L/(R-D/2)) # Roda da esquerda\n",
    "\n",
    "        vtd = V*(1+D/(2*R)) # 3\n",
    "        vte = V*(1-D/(2*R)) # 2\n",
    "        vfd = vtd/(math.cos(phi_1)) # 7\n",
    "        vfe = vte/(math.cos(phi_2)) # 5\n",
    "\n",
    "\n",
    "        # Torque\n",
    "        T = 1\n",
    "\n",
    "        # Velocidade\n",
    "        # vfd\n",
    "        p.setJointMotorControl2(model,7,p.VELOCITY_CONTROL,force=T,targetVelocity=vfd)\n",
    "\n",
    "        # vfe\n",
    "        p.setJointMotorControl2(model,5,p.VELOCITY_CONTROL,force=T,targetVelocity=vfe)\n",
    "\n",
    "        # vtd\n",
    "        p.setJointMotorControl2(model,3,p.VELOCITY_CONTROL,force=T,targetVelocity=vtd)\n",
    "\n",
    "        # vte\n",
    "        p.setJointMotorControl2(model,2,p.VELOCITY_CONTROL,force=T,targetVelocity=vte)\n",
    "\n",
    "        # Ângulo de esterçamento\n",
    "        # phi_1\n",
    "        p.setJointMotorControl2(model,6, p.POSITION_CONTROL,maxVelocity=dphi,targetPosition = phi_1)\n",
    "        # phi_2\n",
    "        p.setJointMotorControl2(model,4, p.POSITION_CONTROL,maxVelocity=dphi,targetPosition = phi_2)"
   ]
  },
  {
   "cell_type": "markdown",
   "id": "672ab902",
   "metadata": {},
   "source": [
    "## Simulação"
   ]
  },
  {
   "cell_type": "code",
   "execution_count": 416,
   "id": "eef0a5dd",
   "metadata": {},
   "outputs": [],
   "source": [
    "# Reset simulation\n",
    "p.resetSimulation()\n",
    "# Adicionar um plano\n",
    "p.setAdditionalSearchPath(pybullet_data.getDataPath())\n",
    "plane = p.loadURDF(\"plane.urdf\")\n",
    "car = p.loadURDF(\"racecar/racecar.urdf\",[rr, 0, 0.001],[0,0,0,1],useFixedBase=0) # Posição\n",
    "p.setGravity(0, 0, -9.81) # Gravidade \n",
    "step = 0.001 # 1 ms\n",
    "p.setTimeStep(step) # time step\n",
    "p.setRealTimeSimulation(0) # Retorna o tempo em zero\n",
    "\n",
    " # sensor \n",
    "q = 1 # Número de pontos do sensor\n",
    "R = 10 # Tamanho do raio\n",
    "hokuyo_joint= 0 # Número da junta que representa o sensor para o racecar\n",
    "replaceLines = True\n",
    "numRays= q # Número de raios do sensor \n",
    "rayFrom=[]\n",
    "rayTo=[]\n",
    "rayIds=[]\n",
    "rayHitColor = [1,0,0] # Vermelho\n",
    "rayMissColor = [0,1,0] # Verde\n",
    "rayLen = R # Tamanho do raio do sensor \n",
    "rayStartLen = 0.1 # Distância do raio que começa os feixes dos sensores \n",
    "ang = math.pi # Abertura do sensor \n",
    "ang = ang*2 + 2*pi*0\n",
    "for i in range (numRays):\n",
    "    rayFrom.append([rayStartLen*(math.cos(i*ang/numRays - ang/2)), rayStartLen*(math.sin(i*ang/numRays - ang/2)),0])\n",
    "    rayTo.append([rayLen*(math.cos(i*ang/numRays - ang/2)), rayLen*(math.sin(i*ang/numRays - ang/2)),0])\n",
    "    if (replaceLines):\n",
    "        rayIds.append(p.addUserDebugLine(rayFrom[i], rayTo[i], rayMissColor,parentObjectUniqueId=car, parentLinkIndex=hokuyo_joint ))\n",
    "    else:\n",
    "        rayIds.append(-1)\n",
    "\n",
    "        \n",
    "# Coluna 1\n",
    "ta = 4\n",
    "Coluna(ta,-ta/2,0) # (comprimento,x,y)\n",
    "\n",
    "# Carro class\n",
    "carc = class_car(rr,D,L,B,f,l,phi_max,dphi_max = dphi,model = car,step=step)\n",
    "\n",
    "\n",
    "# ========================= Dados Controlador ==========================   \n",
    "\n",
    "\n",
    "\n",
    "\n",
    "kp = 3# GANHO PROPORCIONAL\n",
    "ki = 2# GANHO INTEGRAL\n",
    "\n",
    "\n",
    "\n",
    "\n",
    "# =====================================================================\n",
    "# Condições iniciais\n",
    "I = 0\n",
    "U = []\n",
    "erro = []\n",
    "dist = []\n",
    "\n",
    "# Refência\n",
    "Ref = 1 # metros"
   ]
  },
  {
   "cell_type": "code",
   "execution_count": 417,
   "id": "d44a6419",
   "metadata": {},
   "outputs": [],
   "source": [
    "lastLidarTime = 0\n",
    "#while True:\n",
    "for _ in range(int(10/step)):\n",
    "    # Sensor\n",
    "    nowTime = time.time()\n",
    "    nowControlTime = time.time()\n",
    "    nowLidarTime = time.time()\n",
    "    #if (1+1>0): \n",
    "    if (nowLidarTime-lastLidarTime>.3):\n",
    "        numThreads=0\n",
    "        results = p.rayTestBatch(rayFrom,rayTo,numThreads, parentObjectUniqueId=car, parentLinkIndex=hokuyo_joint)\n",
    "        for i in range (numRays):\n",
    "            hitObjectUid= results[i][0]\n",
    "            hitFraction = results[i][2]\n",
    "            hitPosition = results[i][3]\n",
    "            if (hitFraction==1.):\n",
    "                p.addUserDebugLine(rayFrom[i],rayTo[i], rayMissColor,replaceItemUniqueId=rayIds[i],parentObjectUniqueId=car, parentLinkIndex=hokuyo_joint)\n",
    "            else:\n",
    "                localHitTo = [rayFrom[i][0]+hitFraction*(rayTo[i][0]-rayFrom[i][0]),rayFrom[i][1]+hitFraction*(rayTo[i][1]-rayFrom[i][1]),rayFrom[i][2]+hitFraction*(rayTo[i][2]-rayFrom[i][2])]\n",
    "                p.addUserDebugLine(rayFrom[i],localHitTo, rayHitColor,replaceItemUniqueId=rayIds[i],parentObjectUniqueId=car, parentLinkIndex=hokuyo_joint)\n",
    "        lastLidarTime = nowLidarTime\n",
    "    # Fim do sensor\n",
    "    \n",
    "    # Dado da distância \n",
    "    d = abs(results[0][3][0] - p.getLinkState(car, 8)[:2][0][0])\n",
    "    dist.append(d)\n",
    "    \n",
    "    # erro\n",
    "    e = Ref - d\n",
    "    erro.append(e)\n",
    "    \n",
    "    # Controlador PI\n",
    "    P = e*kp   # proporcional  \n",
    "    I += ki*e*step\n",
    "    u = (P + I)\n",
    "    # Limite no sinal de controle\n",
    "    if abs(u) > 1:\n",
    "        u = 1*u/abs(u)\n",
    "    U.append(u)\n",
    "    \n",
    "    # Aplica o sinal de controle Veículo\n",
    "    carc.Velocidade_Phi(u,0)\n",
    "    \n",
    "    # Roda a simulação\n",
    "    p.stepSimulation()\n",
    "    carc.Global()"
   ]
  },
  {
   "cell_type": "code",
   "execution_count": 418,
   "id": "47c53c30",
   "metadata": {},
   "outputs": [
    {
     "data": {
      "image/png": "[encoded data removed]",
      "text/plain": [
       "<Figure size 640x480 with 1 Axes>"
      ]
     },
     "metadata": {},
     "output_type": "display_data"
    },
    {
     "data": {
      "image/png": "[encoded data removed]",
      "text/plain": [
       "<Figure size 640x480 with 1 Axes>"
      ]
     },
     "metadata": {},
     "output_type": "display_data"
    },
    {
     "data": {
      "image/png": "[encoded data removed]",
      "text/plain": [
       "<Figure size 640x480 with 1 Axes>"
      ]
     },
     "metadata": {},
     "output_type": "display_data"
    }
   ],
   "source": [
    "t = np.linspace(0,len(U)*step,len(U))\n",
    "\n",
    "plt.plot(t,erro)\n",
    "plt.grid()\n",
    "plt.title('Erro')\n",
    "plt.xlabel('Tempo (s)')\n",
    "plt.ylabel('Erro (m)')\n",
    "plt.show()\n",
    "\n",
    "\n",
    "plt.plot(t,U)\n",
    "plt.grid()\n",
    "plt.title('Sinal de Controle')\n",
    "plt.xlabel('Tempo (s)')\n",
    "plt.ylabel('Velocidade (m/s)')\n",
    "plt.show()\n",
    "\n",
    "plt.plot(t,dist,label = 'Veículo')\n",
    "plt.plot(t,Ref*np.ones(len(t)),label = 'Referência')\n",
    "plt.title('Distância')\n",
    "plt.xlabel('Tempo (s)')\n",
    "plt.ylabel('Distância (m)')\n",
    "plt.grid()\n",
    "plt.legend(loc = 'lower right')\n",
    "plt.show()"
   ]
  },
  {
   "cell_type": "code",
   "execution_count": 419,
   "id": "c644ccaa",
   "metadata": {},
   "outputs": [],
   "source": [
    "p.disconnect()"
   ]
  },
  {
   "cell_type": "code",
   "execution_count": 420,
   "id": "00f14fab",
   "metadata": {},
   "outputs": [
    {
     "data": {
      "text/plain": [
       "15.528380205357095"
      ]
     },
     "execution_count": 420,
     "metadata": {},
     "output_type": "execute_result"
    }
   ],
   "source": [
    "# overshoot\n",
    "abs(min(erro)) * 100"
   ]
  },
  {
   "cell_type": "code",
   "execution_count": 422,
   "id": "d3e067a7",
   "metadata": {},
   "outputs": [
    {
     "name": "stdout",
     "output_type": "stream",
     "text": [
      "Tempo acomodação 6.89s 0.9003550391180479\n"
     ]
    }
   ],
   "source": [
    "step = 1\n",
    "i = 0\n",
    "for j in range(0, len(dist)):\n",
    "    if dist[j] <= 1.05 and dist[j] >= 0.90:\n",
    "        i = i + 1\n",
    "        if i == step:\n",
    "            print(f\"Tempo acomodação {j/100}s {dist[j]}\")"
   ]
  }
 ],
 "metadata": {
  "kernelspec": {
   "display_name": "Python 3.8.9 ('venvServomec')",
   "language": "python",
   "name": "python3"
  },
  "language_info": {
   "codemirror_mode": {
    "name": "ipython",
    "version": 3
   },
   "file_extension": ".py",
   "mimetype": "text/x-python",
   "name": "python",
   "nbconvert_exporter": "python",
   "pygments_lexer": "ipython3",
   "version": "3.8.9"
  },
  "vscode": {
   "interpreter": {
    "hash": "fca95e47899f40015e45a06238b2b82906146660cd7593c2c64415a5132e2aed"
   }
  }
 },
 "nbformat": 4,
 "nbformat_minor": 5
}
